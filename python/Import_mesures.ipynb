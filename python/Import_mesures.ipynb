{
  "nbformat": 4,
  "nbformat_minor": 0,
  "metadata": {
    "colab": {
      "provenance": []
    },
    "kernelspec": {
      "name": "python3",
      "display_name": "Python 3"
    },
    "language_info": {
      "name": "python"
    }
  },
  "cells": [
    {
      "cell_type": "markdown",
      "source": [
        "# Import des fichiers de mesure des compteurs vélo via l'API Grand Lyon"
      ],
      "metadata": {
        "id": "JhFuqYj8X9rS"
      }
    },
    {
      "cell_type": "code",
      "source": [
        "from google.colab import drive\n",
        "drive.mount(\"/content/drive\")"
      ],
      "metadata": {
        "id": "_NUelNRKyRPK"
      },
      "execution_count": null,
      "outputs": []
    },
    {
      "cell_type": "code",
      "execution_count": 11,
      "metadata": {
        "id": "riW-a2sRX3OI"
      },
      "outputs": [],
      "source": [
        "import requests\n",
        "\n",
        "X = 1000000\n",
        "Y = 1\n",
        "step = 1000000\n",
        "\n",
        "while True:\n",
        "    url = f\"https://download.data.grandlyon.com/ws/timeseries/pvo_patrimoine_voirie.pvocomptagemeasure/all.csv?maxfeatures={X}&start={Y}\"\n",
        "    \n",
        "    response = requests.get(url)\n",
        "    \n",
        "    if response.status_code == 200:\n",
        "        # Save the response to a file\n",
        "        filename = f\"/content/drive/MyDrive/Colab Notebooks/mesures_compteurs_velos/response_{Y}_{X+Y-1}.csv\"\n",
        "        with open(filename, 'w') as file:\n",
        "            file.write(response.text)\n",
        "        \n",
        "        # Increase X and Y by the step value\n",
        "        Y += step\n",
        "    else:\n",
        "        break\n"
      ]
    },
    {
      "cell_type": "markdown",
      "source": [
        "Export to GCS"
      ],
      "metadata": {
        "id": "UjY_zKigyg_v"
      }
    },
    {
      "cell_type": "code",
      "source": [
        "from google.colab import auth\n",
        "auth.authenticate_user()\n",
        "project_id = 'velyon-batch-1187'\n",
        "!gcloud config set project {project_id}\n",
        "!gsutil ls"
      ],
      "metadata": {
        "colab": {
          "base_uri": "https://localhost:8080/"
        },
        "id": "_MTsNWANymPC",
        "outputId": "738f6a2a-2b4e-406b-f102-61c7be6e289d"
      },
      "execution_count": 15,
      "outputs": [
        {
          "output_type": "stream",
          "name": "stdout",
          "text": [
            "Updated property [core/project].\n",
            "gs://velyon_batch_1187/\n"
          ]
        }
      ]
    },
    {
      "cell_type": "markdown",
      "source": [
        "Copy files using gsutil. Use -m tag for multi-threading to increase speed. (There is a Subfolder called \"My Drive\" that you have to address in your mounted drive)"
      ],
      "metadata": {
        "id": "6h5JmaFJywss"
      }
    },
    {
      "cell_type": "code",
      "source": [
        "!gsutil -m cp -r /content/drive/MyDrive/Colab_Notebooks/mesures_compteurs_velos/* gs://velyon_batch_1187/Comptages/mesures/"
      ],
      "metadata": {
        "id": "kMYB3ONLyzHV"
      },
      "execution_count": null,
      "outputs": []
    },
    {
      "cell_type": "markdown",
      "source": [
        "Merge into a single CSV"
      ],
      "metadata": {
        "id": "I1Zpdhja9Fzk"
      }
    },
    {
      "cell_type": "code",
      "source": [
        "import pandas as pd\n",
        "\n",
        "folder_path = '/content/drive/MyDrive/Colab_Notebooks/mesures_compteurs_velos'\n",
        "\n",
        "merged_df = pd.DataFrame()\n"
      ],
      "metadata": {
        "id": "y3K9EdiKBc4x"
      },
      "execution_count": 31,
      "outputs": []
    },
    {
      "cell_type": "code",
      "source": [
        "import os\n",
        "\n",
        "for file_name in os.listdir(folder_path):\n",
        "    if file_name.endswith('.csv'):\n",
        "        file_path = os.path.join(folder_path, file_name)\n",
        "        df = pd.read_csv(file_path)\n",
        "        merged_df = merged_df.append(df, ignore_index=True)\n"
      ],
      "metadata": {
        "id": "IyfZcJN1BnUn"
      },
      "execution_count": null,
      "outputs": []
    },
    {
      "cell_type": "code",
      "source": [
        "output_file_path = '/content/drive/MyDrive/Colab_Notebooks/mesures_compteurs_velos/merged_mesures.csv'\n",
        "merged_df.to_csv(output_file_path, index=False)\n"
      ],
      "metadata": {
        "id": "s8jCV-d2BtuQ"
      },
      "execution_count": 34,
      "outputs": []
    },
    {
      "cell_type": "code",
      "source": [
        "#send to GCS\n",
        "\n",
        "!gsutil -m cp -r /content/drive/MyDrive/Colab_Notebooks/mesures_compteurs_velos/merged_mesures.csv gs://velyon_batch_1187/Comptages/mesures/"
      ],
      "metadata": {
        "colab": {
          "base_uri": "https://localhost:8080/"
        },
        "id": "rA_qxaEzCgDA",
        "outputId": "2baf62fa-9541-41f0-ef83-a9dcf8c57d9d"
      },
      "execution_count": 36,
      "outputs": [
        {
          "output_type": "stream",
          "name": "stdout",
          "text": [
            "Copying file:///content/drive/MyDrive/Colab_Notebooks/mesures_compteurs_velos/merged_mesures.csv [Content-Type=text/csv]...\n",
            "/ [0/1 files][    0.0 B/  2.2 GiB]   0% Done                                    \r==> NOTE: You are uploading one or more large file(s), which would run\n",
            "significantly faster if you enable parallel composite uploads. This\n",
            "feature can be enabled by editing the\n",
            "\"parallel_composite_upload_threshold\" value in your .boto\n",
            "configuration file. However, note that if you do this large files will\n",
            "be uploaded as `composite objects\n",
            "<https://cloud.google.com/storage/docs/composite-objects>`_,which\n",
            "means that any user who downloads such objects will need to have a\n",
            "compiled crcmod installed (see \"gsutil help crcmod\"). This is because\n",
            "without a compiled crcmod, computing checksums on composite objects is\n",
            "so slow that gsutil disables downloads of composite objects.\n",
            "\n",
            "Resuming upload for file:///content/drive/MyDrive/Colab_Notebooks/mesures_compteurs_velos/merged_mesures.csv\n",
            "|\n",
            "Operation completed over 1 objects/2.2 GiB.                                      \n"
          ]
        }
      ]
    }
  ]
}