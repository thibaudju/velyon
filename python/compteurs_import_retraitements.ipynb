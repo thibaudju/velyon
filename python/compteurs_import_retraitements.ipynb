{
  "nbformat": 4,
  "nbformat_minor": 0,
  "metadata": {
    "colab": {
      "provenance": [],
      "mount_file_id": "1jAkhQ9DGEYON35rY7raz5YOdj9qkgqTb",
      "authorship_tag": "ABX9TyPsh1j+oNY+STqTeO++NJKc",
      "include_colab_link": true
    },
    "kernelspec": {
      "name": "python3",
      "display_name": "Python 3"
    },
    "language_info": {
      "name": "python"
    }
  },
  "cells": [
    {
      "cell_type": "markdown",
      "metadata": {
        "id": "view-in-github",
        "colab_type": "text"
      },
      "source": [
        "<a href=\"https://colab.research.google.com/github/thibaudju/velyon/blob/main/python/compteurs_import_retraitements.ipynb\" target=\"_parent\"><img src=\"https://colab.research.google.com/assets/colab-badge.svg\" alt=\"Open In Colab\"/></a>"
      ]
    },
    {
      "cell_type": "markdown",
      "source": [
        "# Import des fichiers de mesure des compteurs vélo via l'API Grand Lyon"
      ],
      "metadata": {
        "id": "JhFuqYj8X9rS"
      }
    },
    {
      "cell_type": "code",
      "source": [
        "from google.colab import drive\n",
        "drive.mount(\"/content/drive\")"
      ],
      "metadata": {
        "id": "_NUelNRKyRPK"
      },
      "execution_count": null,
      "outputs": []
    },
    {
      "cell_type": "code",
      "execution_count": null,
      "metadata": {
        "id": "riW-a2sRX3OI"
      },
      "outputs": [],
      "source": [
        "import requests\n",
        "\n",
        "X = 1000000\n",
        "Y = 1\n",
        "step = 1000000\n",
        "\n",
        "while True:\n",
        "    url = f\"https://download.data.grandlyon.com/ws/timeseries/pvo_patrimoine_voirie.pvocomptagemeasure/all.csv?maxfeatures={X}&start={Y}\"\n",
        "    \n",
        "    response = requests.get(url)\n",
        "    \n",
        "    if response.status_code == 200:\n",
        "        # Save the response to a file\n",
        "        filename = f\"/content/drive/MyDrive/Colab Notebooks/mesures_compteurs_velos/response_{Y}_{X+Y-1}.csv\"\n",
        "        with open(filename, 'w') as file:\n",
        "            file.write(response.text)\n",
        "        \n",
        "        # Increase X and Y by the step value\n",
        "        Y += step\n",
        "    else:\n",
        "        break\n"
      ]
    },
    {
      "cell_type": "markdown",
      "source": [
        "Export to GCS"
      ],
      "metadata": {
        "id": "UjY_zKigyg_v"
      }
    },
    {
      "cell_type": "code",
      "source": [
        "from google.colab import auth\n",
        "auth.authenticate_user()\n",
        "project_id = 'velyon-batch-1187'\n",
        "!gcloud config set project {project_id}\n",
        "!gsutil ls"
      ],
      "metadata": {
        "colab": {
          "base_uri": "https://localhost:8080/"
        },
        "id": "_MTsNWANymPC",
        "outputId": "738f6a2a-2b4e-406b-f102-61c7be6e289d"
      },
      "execution_count": null,
      "outputs": [
        {
          "output_type": "stream",
          "name": "stdout",
          "text": [
            "Updated property [core/project].\n",
            "gs://velyon_batch_1187/\n"
          ]
        }
      ]
    },
    {
      "cell_type": "markdown",
      "source": [
        "Copy files using gsutil. Use -m tag for multi-threading to increase speed. (There is a Subfolder called \"My Drive\" that you have to address in your mounted drive)"
      ],
      "metadata": {
        "id": "6h5JmaFJywss"
      }
    },
    {
      "cell_type": "code",
      "source": [
        "!gsutil -m cp -r /content/drive/MyDrive/Colab_Notebooks/mesures_compteurs_velos/* gs://velyon_batch_1187/Comptages/mesures/"
      ],
      "metadata": {
        "id": "kMYB3ONLyzHV"
      },
      "execution_count": null,
      "outputs": []
    },
    {
      "cell_type": "markdown",
      "source": [
        "Merge into a single CSV"
      ],
      "metadata": {
        "id": "I1Zpdhja9Fzk"
      }
    },
    {
      "cell_type": "code",
      "source": [
        "import pandas as pd\n",
        "\n",
        "folder_path = '/content/drive/MyDrive/Colab_Notebooks/mesures_compteurs_velos'\n",
        "\n",
        "merged_df = pd.DataFrame()\n"
      ],
      "metadata": {
        "id": "y3K9EdiKBc4x"
      },
      "execution_count": null,
      "outputs": []
    },
    {
      "cell_type": "code",
      "source": [
        "import os\n",
        "\n",
        "for file_name in os.listdir(folder_path):\n",
        "    if file_name.endswith('.csv'):\n",
        "        file_path = os.path.join(folder_path, file_name)\n",
        "        df = pd.read_csv(file_path)\n",
        "        merged_df = merged_df.append(df, ignore_index=True)\n"
      ],
      "metadata": {
        "id": "IyfZcJN1BnUn"
      },
      "execution_count": null,
      "outputs": []
    },
    {
      "cell_type": "code",
      "source": [
        "output_file_path = '/content/drive/MyDrive/Colab_Notebooks/mesures_compteurs_velos/merged_mesures.csv'\n",
        "merged_df.to_csv(output_file_path, index=False)\n"
      ],
      "metadata": {
        "id": "s8jCV-d2BtuQ"
      },
      "execution_count": null,
      "outputs": []
    },
    {
      "cell_type": "code",
      "source": [
        "#send to GCS\n",
        "\n",
        "!gsutil -m cp -r /content/drive/MyDrive/Colab_Notebooks/mesures_compteurs_velos/merged_mesures.csv gs://velyon_batch_1187/Comptages/mesures/\n",
        "\n",
        "# I then imported the csv into a BigQuery table"
      ],
      "metadata": {
        "id": "rA_qxaEzCgDA"
      },
      "execution_count": null,
      "outputs": []
    },
    {
      "cell_type": "markdown",
      "source": [
        "# Retraitement"
      ],
      "metadata": {
        "id": "gU139yHACZUE"
      }
    },
    {
      "cell_type": "markdown",
      "source": [
        "Objectif : normalisation des données des compteurs pour effacer le biais lié aux créations / suppressions de nouveaux compteurs et l'installation sur des voies à la fréquentation plus ou moins élevée."
      ],
      "metadata": {
        "id": "8c38s3dUCek2"
      }
    },
    {
      "cell_type": "markdown",
      "source": [
        "1/ Connexion à BigQuery et import de la table all_mesures"
      ],
      "metadata": {
        "id": "1a8YlQ1DEfpi"
      }
    },
    {
      "cell_type": "code",
      "source": [
        "from google.colab import auth\n",
        "auth.authenticate_user()"
      ],
      "metadata": {
        "id": "25AVjf33DRZ3"
      },
      "execution_count": 3,
      "outputs": []
    },
    {
      "cell_type": "code",
      "source": [
        "from google.cloud import bigquery\n",
        "client = bigquery.Client(project='velyon-batch-1187')"
      ],
      "metadata": {
        "id": "BSJWVRiTD4D4"
      },
      "execution_count": 4,
      "outputs": []
    },
    {
      "cell_type": "code",
      "source": [
        "# Use LIMIT to make your tests if table is very large. Remove it to get the final table\n",
        "sql_query = ('''SELECT *\n",
        "                FROM mesures_compteurs.all_mesures\n",
        "                ''')\n",
        "\n",
        "df = client.query(sql_query).to_dataframe()"
      ],
      "metadata": {
        "id": "4EGHgLkZEBf7"
      },
      "execution_count": 5,
      "outputs": []
    },
    {
      "cell_type": "code",
      "source": [
        "df"
      ],
      "metadata": {
        "id": "-JB8QIXiFRk8"
      },
      "execution_count": null,
      "outputs": []
    },
    {
      "cell_type": "markdown",
      "source": [
        "2/ Normalisation des données de mesure "
      ],
      "metadata": {
        "id": "C32kUSe0ElkL"
      }
    },
    {
      "cell_type": "code",
      "source": [
        "# Import needed libraries\n",
        "import numpy as np\n",
        "from sklearn.preprocessing import MinMaxScaler"
      ],
      "metadata": {
        "id": "tX08jSDQElbH"
      },
      "execution_count": 6,
      "outputs": []
    },
    {
      "cell_type": "markdown",
      "source": [
        "We need to normalize the count column, but for each channel_id and not the whole column. "
      ],
      "metadata": {
        "id": "9ef9W5seJuBA"
      }
    },
    {
      "cell_type": "code",
      "source": [
        "scaler = MinMaxScaler()\n",
        "\n",
        "# We group the dataframe by the 'channel_id' column and apply the normalization to the 'count' column within each group\n",
        "\n",
        "df['normalized_count'] = df.groupby('channel_id')['count'].transform(lambda x: scaler.fit_transform(x.values.reshape(-1, 1)).flatten())"
      ],
      "metadata": {
        "id": "YG2ujoPAIK84"
      },
      "execution_count": 7,
      "outputs": []
    },
    {
      "cell_type": "markdown",
      "source": [
        "Now let's send that enriched data to BigQuery\n",
        "\n",
        "First create the new column in the bigquery UI"
      ],
      "metadata": {
        "id": "2SRZC52KLtQS"
      }
    },
    {
      "cell_type": "code",
      "source": [
        "# convert into csv\n",
        "\n",
        "df.to_csv(\"/content/drive/MyDrive/Colab_Notebooks/mesures_normalized.csv\")\n",
        "\n"
      ],
      "metadata": {
        "id": "aSs-I5qxNBZZ"
      },
      "execution_count": 9,
      "outputs": []
    },
    {
      "cell_type": "markdown",
      "source": [
        "And send to GCS"
      ],
      "metadata": {
        "id": "m8uXguQkT50I"
      }
    },
    {
      "cell_type": "code",
      "source": [
        "from google.colab import auth\n",
        "auth.authenticate_user()\n",
        "project_id = 'velyon-batch-1187'\n",
        "!gcloud config set project {project_id}\n",
        "!gsutil ls\n",
        "\n",
        "!gsutil -m cp -r /content/drive/MyDrive/Colab_Notebooks/mesures_normalized.csv gs://velyon_batch_1187/Comptages/mesures/"
      ],
      "metadata": {
        "id": "REG3u3XVT5P4"
      },
      "execution_count": null,
      "outputs": []
    }
  ]
}